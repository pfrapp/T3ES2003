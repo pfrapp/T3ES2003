{
 "cells": [
  {
   "cell_type": "markdown",
   "id": "environmental-action",
   "metadata": {},
   "source": [
    "# Labor 01 -- Grundlagen\n",
    "*Referenzimplementierung*\n"
   ]
  },
  {
   "cell_type": "markdown",
   "id": "renewable-diving",
   "metadata": {},
   "source": [
    "Dies ist ein Jupyter Notebook. Sie könnnen Jupyter Notebook starten mit Hilfe des Befehls\n",
    "\n",
    "```$ jupyter notebook```\n",
    "\n",
    "(siehe Aufgabe 1.1).\n",
    "Anschließend öffnet sich ein Browser, und Sie können dieses Notebook laden und interaktiv ausführen.\n",
    "\n",
    "Alternativ können Sie Visual Studio Code nutzen um mit Jupyter Notebooks zu arbeiten, wie in [diesem Artikel](https://code.visualstudio.com/docs/python/jupyter-support) beschrieben."
   ]
  },
  {
   "cell_type": "markdown",
   "id": "angry-essex",
   "metadata": {},
   "source": [
    "## Kurze Einführung in Python\n",
    "Python ist eine beliebte und weit verbreitete Programmiersprache.\n",
    "Die Sprache wird nicht kompiliert, sondern interpretiert.\n",
    "\n",
    "Die Syntax ist entfernt verwandt mit der von C.\n",
    "\n",
    "Im Gegensatz zu C werden bei Python die Typen nicht explizt angegeben. Vielmehr nutzt Python _duck typing_.\n",
    "\n",
    "Um Variablen zuzuweisen, nutzen Sie `=`, z.B.\n",
    "\n",
    "```a = 5.0```\n",
    "\n",
    "Sie können auch mehrere Variablen gleichzeitig zuweisen, z.B.\n",
    "\n",
    "```a, b = 5.0, 7.0```\n",
    "\n",
    "Funktionen werden mit Hilfe des Schlüsselwortes `def` definiert. Der Rückgabewert wird -- wie in C -- mit Hilfe des Schlüsselwortes `return` zurückgegeben. In Python kann eine Funktion mehrere Werte zurückgeben.\n",
    "\n",
    "Beispiel: Implementierung der Eulerschen Formel.\n",
    "\n",
    "```\n",
    "def euler(theta):\n",
    "    s, c = sin(theta), cos(theta)\n",
    "    return s, c\n",
    "```\n",
    "\n",
    "Der Funktionsrumpf wird nicht wie in C durch geschweifte Klammern `{}` gekennzeichnet, sondern durch _Einrückung_.\n",
    "Dies gilt generell für jeden _Scope_, also auch z.B. für `if` statements.\n",
    "\n",
    "Python bietet eine Vielzahl an Bibliotheken, in denen Sie häufig genutzte Funktionen und Klassen finden. Sie kommen in Form sogenannter Packages und werden mit `import` importiert (das entspricht grob dem `#include` aus C).\n",
    "\n",
    "Bevor Sie eine bestimmte Funktionalität selber implementieren, sollten Sie (z.B. unter Nutzung von Google) nachsehen, ob es diese Funktionalität nicht bereits in einem Package gibt.\n",
    "Ausnahme: Sie wollen _verstehen_, wie ein Algorithmus funktioniert -- in dem Fall ergibt es Sinn, ihn einmal selber zu implementieren.\n",
    "\n",
    "Nicht zuletzt wurden die Beliebtheit und Verbreitung von Python durch die massiven Fortschritte im Bereich _Deep Learning_ angefacht, die wir in der letzten Dekade (2010-2020) gesehen haben. Als Nebeneffekt entstanden sehr viele Tutorials, die Ihnen einen schnellen Start in die Grundlagen der Sprache vermitteln. Ein Startpunkt ist z.B. die offizielle [offizielle Python Seite](https://docs.python.org/3/tutorial/).\n"
   ]
  },
  {
   "cell_type": "markdown",
   "id": "simplified-bruce",
   "metadata": {},
   "source": [
    "## Erstellung von Plots\n",
    "\n"
   ]
  },
  {
   "cell_type": "markdown",
   "id": "6f256557",
   "metadata": {},
   "source": [
    "### Scatterplots\n",
    "\n",
    "Erstellen Sie einen Scatterplot der folgenden komplexen Zahlen\n",
    "aus Übung 1, einmal für $r_0 = 2$ und $\\theta_0 = \\pi/4$, und einmal\n",
    "für $r_0 = 2$ und $\\theta_0 = \\pi/2$.\n",
    "\n",
    "* $z_1 = r_0 e^{-j \\theta_0}$\n",
    "* $z_2 = r_0$\n",
    "* $z_3 = r_0 e^{j (\\theta_0 + \\pi)}$\n",
    "* $z_4 = r_0 e^{j (-\\theta_0 + \\pi)}$\n",
    "* $z_5 = r_0 e^{j (\\theta_0 + 2\\pi)}$"
   ]
  },
  {
   "cell_type": "markdown",
   "id": "7b53693f",
   "metadata": {},
   "source": [
    "Zuerst importieren wir die benötigten Pakete.\n",
    "Die letzten beiden Zeilen sorgen dafür, dass die Graphiken im PDF-Export als [Vektorgraphiken](http://blog.rtwilson.com/how-to-get-nice-vector-graphics-in-your-exported-pdf-ipython-notebooks/) dargestellt werden -- sie haben keine inhaltliche Bedeutung für dieses Labor und können ignoriert werden."
   ]
  },
  {
   "cell_type": "code",
   "execution_count": null,
   "id": "673582ed",
   "metadata": {},
   "outputs": [],
   "source": [
    "import matplotlib.pyplot as plt\n",
    "from numpy import real, imag, arctan2, hypot, cos, sin, pi\n",
    "from numpy import linspace, array, exp\n",
    "\n",
    "from IPython.display import set_matplotlib_formats\n",
    "set_matplotlib_formats('png', 'pdf')"
   ]
  },
  {
   "cell_type": "markdown",
   "id": "b5cebde9",
   "metadata": {},
   "source": [
    "Nun können wir die Scatterplots erzeugen. Hierzu nutzen wir die Funktion `scatter`, die uns von `pyplot`, welches wir unter dem Alias `plt` importiert haben, zur Verfügung gestellt wird."
   ]
  },
  {
   "cell_type": "code",
   "execution_count": null,
   "id": "ceramic-desire",
   "metadata": {},
   "outputs": [],
   "source": [
    "r_0 = [2.0, 2.0]\n",
    "theta_0 = [pi/4.0, pi/2.0]\n",
    "\n",
    "def polar_to_cartesian(r, theta):\n",
    "    # Eulerformel\n",
    "    x, y = cos(theta), sin(theta)\n",
    "    # Skalieren mit Betrag r\n",
    "    return [r*x, r*y]\n",
    "\n",
    "for k, (r, theta) in enumerate(zip(r_0, theta_0)):\n",
    "    z0 = polar_to_cartesian(r, theta)\n",
    "    z1 = polar_to_cartesian(r, -theta)\n",
    "    z2 = polar_to_cartesian(r, 0)\n",
    "    z3 = polar_to_cartesian(r, theta+pi)\n",
    "    z4 = polar_to_cartesian(r, -theta+pi)\n",
    "    z5 = polar_to_cartesian(r, theta+2*pi)\n",
    "\n",
    "    plt.figure(k)\n",
    "    plt.clf()\n",
    "    plt.scatter(z0[0], z0[1], label='z_0')\n",
    "    plt.scatter(z1[0], z1[1], label='z_1', marker='x')\n",
    "    plt.scatter(z2[0], z2[1], label='z_2', marker='+')\n",
    "    plt.scatter(z3[0], z3[1], label='z_3', marker='v')\n",
    "    plt.scatter(z4[0], z4[1], label='z_4', marker='^')\n",
    "    plt.scatter(z5[0], z5[1], label='z_5', marker='s')\n",
    "    plt.grid(True)\n",
    "    plt.legend()\n",
    "    plt.xlabel('Re(z)')\n",
    "    plt.ylabel('Im(z)')\n",
    "    plt.xlim(-2.5,2.5)\n",
    "    plt.ylim(-2.5,2.5)\n",
    "    plt.title(f'Plot Nr. {k+1} fuer r_0={r}, theta_0={theta}')"
   ]
  },
  {
   "cell_type": "markdown",
   "id": "c2eab33d",
   "metadata": {},
   "source": [
    "### Kurven\n",
    "\n",
    "Stellen Sie den Verlauf der Funktion $y(t)$ dar, welche die folgenden\n",
    "Differentialgleichungen löst.\n",
    "\n",
    "* $\\dot{y}_1(t)+y_1(t)=0$ mit der Anfangsbedingung $y_1(0)=1$\n",
    "* $\\ddot{y}_2(t) + \\omega^2 y_2(t) = 0$ mit den Anfangsbedingungen $y_2(0)=0, \\dot{y}_2(0)=\\omega$\n",
    "          und $\\omega=2\\pi$.\n",
    "\n",
    "Sie haben die Lösung bereits in Übung 1, Teilaufgabe 1.4.3, zu\n",
    "\n",
    "*    $y_1(t) = e^{-t}$\n",
    "*    $y_2(t) = \\sin(\\omega t)$\n",
    "\n",
    "berechnet.\n",
    "\n",
    "Wir nutzen hierfür die Funktion `plot`. Die Achsenbeschriftungen lassen sich mit `xlabel` und `ylabel` hinzufügen."
   ]
  },
  {
   "cell_type": "code",
   "execution_count": null,
   "id": "c87a6660",
   "metadata": {},
   "outputs": [],
   "source": [
    "t = linspace(-1,4,1000)\n",
    "y_1 = exp(-t)\n",
    "omega = 2*pi\n",
    "y_2 = sin(omega*t)\n",
    "\n",
    "plt.figure(10)\n",
    "plt.clf()\n",
    "plt.plot(t, y_1, label='y_1(t)')\n",
    "plt.plot(t, y_2, label='y_2(t)')\n",
    "plt.xlabel('t')\n",
    "plt.ylabel('y(t)')\n",
    "plt.grid(True)\n",
    "plt.legend()\n",
    "plt.show()\n",
    "\n"
   ]
  },
  {
   "cell_type": "markdown",
   "id": "499da523",
   "metadata": {},
   "source": [
    "## Numerische Lösung von Differentialgleichungen"
   ]
  },
  {
   "cell_type": "markdown",
   "id": "3b173a03",
   "metadata": {},
   "source": [
    "### Implementierung des \"Euler vorwärts\" Verfahrens\n",
    "\n",
    "In Übung 1, Teilaufgabe 1.4.3, haben Sie das \"Euler vorwärts\"\n",
    "Verfahren kennen gelernt.\n",
    "Die Idee bestand darin, den Differentialquotienten durch den Differenzenquotienten\n",
    "zu approximieren.\n",
    "Dadurch konnte eine approximative Lösung der Differentialgleichung\n",
    "numerisch berechnet werden.\n"
   ]
  },
  {
   "cell_type": "markdown",
   "id": "1c175a84",
   "metadata": {},
   "source": [
    "### Nutzung von SciPy\n",
    "\n",
    "Das `scipy` Package bietet ihnen ausgereifte Funktionen zur numerischen\n",
    "Lösung von Differentialgleichungen.\n",
    "Hierfür können Sie `scipy.integrate.solve_ivp` nutzen.\n",
    "IVP bedeutet _initial value problem_, d.h. dass wir die Lösung\n",
    "einer Differentialgleichung suchen, deren _Anfangsbedingungen_ wir kennen.\n",
    "Sie werden den Begriff ODE lesen: Dieser steht für _ordinary differential equation_.\n",
    "Die im Rahmen dieser Veranstaltung behandelten Differentialgleichungen\n",
    "sind ODEs.\n",
    "Partielle Differentialgleichungen, also solche in denen partielle Ableitungen auftreten,\n",
    "kommen im Rahmen dieses Kurses nicht vor.\n",
    "\n",
    "Verwenden Sie die Funktion `solve_ivp` zur numerischen Lösung der beiden\n",
    "oben genannten Differentialgleichungen.\n",
    "Vergleichen Sie die Lösung mit Ihrer \"Euler vorwärts\" Lösung sowie mit der\n",
    "analytischen Lösung.\n"
   ]
  },
  {
   "cell_type": "markdown",
   "id": "671d7a7d",
   "metadata": {},
   "source": [
    "Wir importieren zuerst wieder die notwendigen Pakete."
   ]
  },
  {
   "cell_type": "code",
   "execution_count": null,
   "id": "23aa6d52",
   "metadata": {},
   "outputs": [],
   "source": [
    "import matplotlib.pyplot as plt\n",
    "from numpy import exp, linspace\n",
    "from numpy import array, matmul, pi, eye, sin\n",
    "from scipy.integrate import solve_ivp"
   ]
  },
  {
   "cell_type": "code",
   "execution_count": null,
   "id": "7fc661ef",
   "metadata": {},
   "outputs": [],
   "source": [
    "# Euler vorwaerts fuer die erste Differentialgleichung\n",
    "\n",
    "# Rechte Seite der Differenzengleichung\n",
    "def next_x(x_k, step_size):\n",
    "    x_k_plus_1 = (1.0 - step_size) * x_k\n",
    "    return x_k_plus_1\n",
    "\n",
    "# Anfangsbedingung\n",
    "x_0 = 1.0\n",
    "\n",
    "# Schrittweite festlegen\n",
    "delta_t = 0.1\n",
    "\n",
    "# Ende der Integration (in s)\n",
    "t_f = 8.0\n",
    "\n",
    "x = []\n",
    "t = []\n",
    "\n",
    "# Numerische Integration durchfuehren\n",
    "current_t = 0.0\n",
    "current_x = x_0\n",
    "while current_t <= t_f:\n",
    "    t.append(current_t)\n",
    "    x.append(current_x)\n",
    "    current_x = next_x(current_x, delta_t)\n",
    "    current_t += delta_t"
   ]
  },
  {
   "cell_type": "code",
   "execution_count": null,
   "id": "702c88f6",
   "metadata": {},
   "outputs": [],
   "source": [
    "# Analytische Loesung\n",
    "t_analytic = linspace(0.0, t_f, 1000)\n",
    "x_analytic = [exp(-tau) for tau in t_analytic]\n",
    "\n"
   ]
  },
  {
   "cell_type": "code",
   "execution_count": null,
   "id": "d40bc147",
   "metadata": {},
   "outputs": [],
   "source": [
    "# Numerische Integration mit SciPy\n",
    "\n",
    "# Definition der rechten Seite (right hand side, rhs) der\n",
    "# Differentialgleichung (ordinary differential equation, ODE)\n",
    "# dx/dt = f(t, x)\n",
    "def ode_rhs(t, x):\n",
    "    x_dot = -x\n",
    "    return x_dot\n",
    "\n",
    "scipy_integration_result = solve_ivp(ode_rhs, [0, t_f], array([x_0]))\n",
    "\n"
   ]
  },
  {
   "cell_type": "code",
   "execution_count": null,
   "id": "b0ccbfc0",
   "metadata": {},
   "outputs": [],
   "source": [
    "# Ergebnisse darstellen\n",
    "plt.figure(1)\n",
    "plt.clf()\n",
    "plt.plot(t, x, '-x', label=f'Euler vorwaerts Approximation (Schrittweite: {delta_t})')\n",
    "plt.plot(t_analytic, x_analytic, '--', label='Analytische Loesung')\n",
    "plt.plot(scipy_integration_result.t, scipy_integration_result.y.flatten(), '-.x', label='Numerische Loesung durch SciPy')\n",
    "plt.grid(True)\n",
    "plt.legend()\n",
    "plt.xlabel('t')\n",
    "plt.show()"
   ]
  },
  {
   "cell_type": "markdown",
   "id": "ba196477",
   "metadata": {},
   "source": [
    "Wie wählen Sie die Schrittweite $\\Delta t$? Begründen Sie Ihre Antwort!\n",
    "\n",
    "Was passiert, wenn Sie die Schrittweite sehr groß wählen?\n",
    "Haben Sie eine Erklärung für Ihre Beobachtung?\n",
    "\n",
    "Antwort: Die Schrittweite muss klein genug gewählt werden, da sonst die Integration instabil wird.\n",
    "Konkret passiert das für delta_t > 2.0.\n",
    "\n",
    "Anschauliche Erklärung: Wir schießen zu weit auf die andere Seite,\n",
    "dadurch schwingt sich das System auf (die Lösung, die wir durch die numerische Integration erhalten ist instabil,\n",
    "obwohl das System eigentlich stabil ist!).\n",
    "\n",
    "Mathematische Erklärung via z-Transformation.\n",
    "\n",
    "Wenn die Schrittweite zu klein gewählt wird erhöht sich der Rechenaufwand unnötig.\n",
    "\n",
    "Was fällt Ihnen auf?\n",
    "\n",
    "Antwort: Obwohl SciPy eine deutlich größere Schrittweite wählt (erkennbar an den Kreuzen), ist die Lösung deutlich näher an der analytischen Lösung. Bei der zweiten Differentialgleichung (siehe unten) wird dadurch das Aufschwingen vermieden, das wir mit Euler vorwärts beobachten.\n"
   ]
  },
  {
   "cell_type": "code",
   "execution_count": null,
   "id": "07ae0011",
   "metadata": {},
   "outputs": [],
   "source": [
    "# Euler vorwaerts fuer die zweite Differentialgleichung\n",
    "# Hier benoetigen wir die Zustandsraumdarstellung\n",
    "\n",
    "# Parameter omega und Systemmatrix definieren\n",
    "omega = 2.0*pi\n",
    "A = array([[0.0, 1.0], [-omega**2, 0.0]])\n",
    "\n",
    "# Rechte Seite der Differenzengleichung\n",
    "def next_x(x_k, step_size):\n",
    "    B = A*step_size + eye(2)\n",
    "    x_k_plus_1 = matmul(B, x_k)\n",
    "    return x_k_plus_1\n",
    "\n",
    "# Schrittweite festlegen\n",
    "delta_t = 0.01\n",
    "\n",
    "# Anfangsbedingung\n",
    "x_0 = array([0.0, omega])\n",
    "\n",
    "# Ende der Integration (in s)\n",
    "t_f = 8.0\n",
    "\n",
    "x = []\n",
    "t = []\n",
    "\n",
    "# Numerische Integration durchfuehren\n",
    "current_t = 0.0\n",
    "current_x = x_0\n",
    "while current_t <= t_f:\n",
    "    t.append(current_t)\n",
    "    x.append(current_x)\n",
    "    current_x = next_x(current_x, delta_t)\n",
    "    current_t += delta_t"
   ]
  },
  {
   "cell_type": "code",
   "execution_count": null,
   "id": "8cb0fb55",
   "metadata": {},
   "outputs": [],
   "source": [
    "# Analytische Loesung\n",
    "t_analytic = linspace(0.0, t_f, 1000)\n",
    "x_analytic = [sin(omega*tau) for tau in t_analytic]"
   ]
  },
  {
   "cell_type": "code",
   "execution_count": null,
   "id": "a1bf6e7a",
   "metadata": {},
   "outputs": [],
   "source": [
    "# Numerische Integration mit SciPy\n",
    "\n",
    "# Definition der rechten Seite (right hand side, rhs) der\n",
    "# Differentialgleichung (ordinary differential equation, ODE)\n",
    "# dx/dt = f(t, x)\n",
    "def ode_rhs(t, x):\n",
    "    x_1 = x[0]\n",
    "    x_2 = x[1]\n",
    "    x_1_dot = x_2\n",
    "    x_2_dot = -omega**2 * x_1\n",
    "    x_dot = array([x_1_dot, x_2_dot])\n",
    "    return x_dot\n",
    "\n",
    "scipy_integration_result = solve_ivp(ode_rhs, [0, t_f], x_0)"
   ]
  },
  {
   "cell_type": "code",
   "execution_count": null,
   "id": "a02070fc",
   "metadata": {},
   "outputs": [],
   "source": [
    "# Ergebnisse darstellen\n",
    "plt.figure(1)\n",
    "plt.clf()\n",
    "plt.plot(t, [xi[0] for xi in x], '-x', label=f'Euler vorwaerts Approximation (Schrittweite: {delta_t})')\n",
    "plt.plot(t_analytic, x_analytic, '--', label='Analytische Loesung')\n",
    "plt.plot(scipy_integration_result.t, scipy_integration_result.y[0,:], '-.x', label='Numerische Loesung durch SciPy')\n",
    "plt.grid(True)\n",
    "plt.legend()\n",
    "plt.xlabel('t')\n",
    "plt.show()\n"
   ]
  }
 ],
 "metadata": {
  "kernelspec": {
   "display_name": "Python 3 (ipykernel)",
   "language": "python",
   "name": "python3"
  },
  "language_info": {
   "codemirror_mode": {
    "name": "ipython",
    "version": 3
   },
   "file_extension": ".py",
   "mimetype": "text/x-python",
   "name": "python",
   "nbconvert_exporter": "python",
   "pygments_lexer": "ipython3",
   "version": "3.10.13"
  }
 },
 "nbformat": 4,
 "nbformat_minor": 5
}
